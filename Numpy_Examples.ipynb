{
  "cells": [
    {
      "cell_type": "code",
      "execution_count": 4,
      "metadata": {
        "colab": {
          "base_uri": "https://localhost:8080/"
        },
        "id": "0hwlpXi9d8hO",
        "outputId": "f87500f5-61e8-41f2-a545-85147066a64f"
      },
      "outputs": [
        {
          "name": "stdout",
          "output_type": "stream",
          "text": [
            "[1 2 3]\n",
            "[[1 2 3]\n",
            " [2 3 5]\n",
            " [1 5 7]]\n"
          ]
        }
      ],
      "source": [
        "#Importing numpy library as np\n",
        "import numpy as np\n",
        "\n",
        "#1. Creating an array with numpy\n",
        "# Using np.array() method\n",
        "\n",
        "arr1 = np.array([1,2,3]) # np.array([]) for single array\n",
        "arr2 = np.array([[1,2,3],[2,3,5],[1,5,7]]) # np.array([[],[],[]]) for multi dimensional array\n",
        "print(arr1)\n",
        "print(arr2)"
      ]
    },
    {
      "cell_type": "code",
      "execution_count": 6,
      "metadata": {
        "colab": {
          "base_uri": "https://localhost:8080/"
        },
        "id": "JEbjqeXShdFU",
        "outputId": "b924bfe0-94d3-4d9e-f1c1-9b581f34a26e"
      },
      "outputs": [
        {
          "name": "stdout",
          "output_type": "stream",
          "text": [
            "[[0. 0. 0.]\n",
            " [0. 0. 0.]\n",
            " [0. 0. 0.]]\n"
          ]
        }
      ],
      "source": [
        "#2. Creating an array filled with zeros\n",
        "# Using np.zeros() method\n",
        "\n",
        "arr3 = np.zeros((3,3)) # np.zeros((rows, columns))\n",
        "print(arr3)"
      ]
    },
    {
      "cell_type": "code",
      "execution_count": 8,
      "metadata": {
        "colab": {
          "base_uri": "https://localhost:8080/"
        },
        "id": "xsBqgy1xiTSB",
        "outputId": "a8310f44-609c-4518-fbe3-0218e69a435c"
      },
      "outputs": [
        {
          "name": "stdout",
          "output_type": "stream",
          "text": [
            "[[1. 1. 1.]\n",
            " [1. 1. 1.]\n",
            " [1. 1. 1.]]\n"
          ]
        }
      ],
      "source": [
        "#3. Creating an array filled with ones\n",
        "# Using np.ones() method\n",
        "\n",
        "arr4 = np.ones((3,3)) # np.ones((rows, columns))\n",
        "print(arr4)"
      ]
    },
    {
      "cell_type": "code",
      "execution_count": 11,
      "metadata": {
        "colab": {
          "base_uri": "https://localhost:8080/"
        },
        "id": "3JJxRFd-iwWL",
        "outputId": "4dfee6b5-ff2b-4122-f92f-b831e0cb80de"
      },
      "outputs": [
        {
          "name": "stdout",
          "output_type": "stream",
          "text": [
            "[[4.98599305e-310 0.00000000e+000]\n",
            " [6.63610051e-310 6.63616366e-310]]\n"
          ]
        }
      ],
      "source": [
        "#4. Creating an array with empty values (garbage values), Not initialized\n",
        "# Using np.empty() method\n",
        "\n",
        "arr5 = np.empty((2,2)) # np.empty((rows, columns))\n",
        "print(arr5)"
      ]
    },
    {
      "cell_type": "code",
      "execution_count": 15,
      "metadata": {
        "colab": {
          "base_uri": "https://localhost:8080/"
        },
        "id": "bV9_xzk7kK23",
        "outputId": "f11c3f73-0bef-4030-a79b-a57b417b2313"
      },
      "outputs": [
        {
          "name": "stdout",
          "output_type": "stream",
          "text": [
            "[[5 5 5]\n",
            " [5 5 5]\n",
            " [5 5 5]]\n"
          ]
        }
      ],
      "source": [
        "#5. Creating an array with specific values\n",
        "# Using np.full() method\n",
        "\n",
        "arr6 = np.full((3,3),5) # np.full((rows, columns), value to fill array)\n",
        "print(arr6)"
      ]
    },
    {
      "cell_type": "code",
      "execution_count": 20,
      "metadata": {
        "colab": {
          "base_uri": "https://localhost:8080/"
        },
        "id": "Y2kOu7YrkMpc",
        "outputId": "b16ec997-69ac-4466-db0a-f454d658eb55"
      },
      "outputs": [
        {
          "name": "stdout",
          "output_type": "stream",
          "text": [
            "[[1. 0. 0.]\n",
            " [0. 1. 0.]\n",
            " [0. 0. 1.]]\n"
          ]
        }
      ],
      "source": [
        "#6. Creating an Identity matrix\n",
        "# Using np.eye() method\n",
        "\n",
        "arr7 = np.eye(3) # np.eye(matrix size)\n",
        "print(arr7)"
      ]
    },
    {
      "cell_type": "code",
      "execution_count": 24,
      "metadata": {
        "colab": {
          "base_uri": "https://localhost:8080/"
        },
        "id": "1pjJsYeAl3OQ",
        "outputId": "5f9fab7d-12a7-44e3-8b4a-bc369e8b33e3"
      },
      "outputs": [
        {
          "name": "stdout",
          "output_type": "stream",
          "text": [
            "[0 1 2]\n",
            "[0 1 2 3 4]\n",
            "[0 2 4 6 8]\n"
          ]
        }
      ],
      "source": [
        "#7. Creating a range of array\n",
        "# Using np.arange()\n",
        "\n",
        "arr8 = np.arange(3) # np.arange(end element)--(0 to 2)\n",
        "print(arr8)\n",
        "\n",
        "arr9 = np.arange(0,5) # np.arange(start element, stop element) -- (0,1,2,3,4)\n",
        "print(arr9)\n",
        "\n",
        "arr10 = np.arange(0,10,2) # np.arange(start, stop, step)--(0,2,4,6,8)\n",
        "print(arr10)"
      ]
    },
    {
      "cell_type": "code",
      "execution_count": 33,
      "metadata": {
        "colab": {
          "base_uri": "https://localhost:8080/"
        },
        "id": "JTMTN6XynQqt",
        "outputId": "6b83a396-dace-4073-c97d-693efa0e50ed"
      },
      "outputs": [
        {
          "name": "stdout",
          "output_type": "stream",
          "text": [
            "[ 2.  4.  6.  8. 10.]\n",
            "[ 2.  4.  6.  8. 10.]\n",
            "[2. 4. 6. 8.]\n"
          ]
        }
      ],
      "source": [
        "#8. Creating an arry with equally splitted\n",
        "# Using np.linspace() method\n",
        "\n",
        "arr11 = np.linspace(2,10,5) # np.linspace(start, stop, steps to fill) (by default endpoint=True)\n",
        "print(arr11)\n",
        "\n",
        "arr12 = np.linspace(2,10,5, endpoint=True) # np.linspace(start, stop, steps to fill, include end value(endpoint=True))\n",
        "print(arr12)\n",
        "\n",
        "arr13 = np.linspace(2,10,4, endpoint=False) # np.linspace(start, stop, steps to fill, don't include end value(endpoint=False))\n",
        "print(arr13)"
      ]
    },
    {
      "cell_type": "code",
      "execution_count": 41,
      "metadata": {
        "colab": {
          "base_uri": "https://localhost:8080/"
        },
        "id": "rLs1XEdKpBNN",
        "outputId": "c4a77c49-1647-4d04-c5ce-ba7dfbdadac8"
      },
      "outputs": [
        {
          "name": "stdout",
          "output_type": "stream",
          "text": [
            "[[0.77151693 0.53109052 0.55984082]\n",
            " [0.67651661 0.74667702 0.98981942]\n",
            " [0.35125251 0.21593294 0.5018175 ]]\n"
          ]
        }
      ],
      "source": [
        "#9. Creating array with any random values\n",
        "# Using np.random.rand() method\n",
        "\n",
        "arr14 = np.random.rand(3,3) # np.random.rand(rows, columns)\n",
        "print(arr14)"
      ]
    },
    {
      "cell_type": "code",
      "execution_count": 51,
      "metadata": {
        "colab": {
          "base_uri": "https://localhost:8080/"
        },
        "id": "rEoJcd6gp8Nr",
        "outputId": "a29dd954-525b-41b6-f04e-74a9e901ae76"
      },
      "outputs": [
        {
          "name": "stdout",
          "output_type": "stream",
          "text": [
            "[0 3 6 0]\n",
            "[[5 1 9]\n",
            " [3 5 7]]\n"
          ]
        }
      ],
      "source": [
        "#10. Creating array with integer random values in specific range with specific size\n",
        "# Using np.random.randint() method\n",
        "\n",
        "arr15 = np.random.randint(0,10,(4)) # np.random.randint(low end, high end, (size))-- 1D array\n",
        "print(arr15)\n",
        "\n",
        "arr16 = np.random.randint(0,10,(2,3)) # np.random.randint(low end, high end, (rows, columns))-- 2D array\n",
        "print(arr16)"
      ]
    }
  ],
  "metadata": {
    "colab": {
      "provenance": []
    },
    "kernelspec": {
      "display_name": "Python 3",
      "name": "python3"
    },
    "language_info": {
      "name": "python"
    }
  },
  "nbformat": 4,
  "nbformat_minor": 0
}
