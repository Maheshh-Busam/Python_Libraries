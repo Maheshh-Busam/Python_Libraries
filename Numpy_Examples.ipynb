{
  "nbformat": 4,
  "nbformat_minor": 0,
  "metadata": {
    "colab": {
      "provenance": []
    },
    "kernelspec": {
      "name": "python3",
      "display_name": "Python 3"
    },
    "language_info": {
      "name": "python"
    }
  },
  "cells": [
    {
      "cell_type": "markdown",
      "source": [
        "**Array Creation Functions**\n",
        "\n",
        "---\n",
        "\n",
        "\n",
        "*   numpy.array\n",
        "*   numpy.zeros\n",
        "*   numpy.ones\n",
        "*   numpy.empty\n",
        "*   numpy.full\n",
        "*   numpy.eye\n",
        "*   numpy.arange\n",
        "*   numpy.linspace\n",
        "*   numpy.random.rand\n",
        "*   numpy.random.randint\n",
        "\n",
        "\n",
        "\n"
      ],
      "metadata": {
        "id": "zFGyn4s9QdPl"
      }
    },
    {
      "cell_type": "code",
      "execution_count": null,
      "metadata": {
        "colab": {
          "base_uri": "https://localhost:8080/"
        },
        "id": "0hwlpXi9d8hO",
        "outputId": "f87500f5-61e8-41f2-a545-85147066a64f"
      },
      "outputs": [
        {
          "output_type": "stream",
          "name": "stdout",
          "text": [
            "[1 2 3]\n",
            "[[1 2 3]\n",
            " [2 3 5]\n",
            " [1 5 7]]\n"
          ]
        }
      ],
      "source": [
        "#Importing numpy library as np\n",
        "import numpy as np\n",
        "\n",
        "#1. Creating an array with numpy\n",
        "# Using np.array() method\n",
        "\n",
        "arr1 = np.array([1,2,3]) # np.array([]) for single array\n",
        "arr2 = np.array([[1,2,3],[2,3,5],[1,5,7]]) # np.array([[],[],[]]) for multi dimensional array\n",
        "print(arr1)\n",
        "print(arr2)"
      ]
    },
    {
      "cell_type": "code",
      "source": [
        "#2. Creating an array filled with zeros\n",
        "# Using np.zeros() method\n",
        "\n",
        "arr3 = np.zeros((3,3)) # np.zeros((rows, columns))\n",
        "print(arr3)"
      ],
      "metadata": {
        "colab": {
          "base_uri": "https://localhost:8080/"
        },
        "id": "JEbjqeXShdFU",
        "outputId": "b924bfe0-94d3-4d9e-f1c1-9b581f34a26e"
      },
      "execution_count": null,
      "outputs": [
        {
          "output_type": "stream",
          "name": "stdout",
          "text": [
            "[[0. 0. 0.]\n",
            " [0. 0. 0.]\n",
            " [0. 0. 0.]]\n"
          ]
        }
      ]
    },
    {
      "cell_type": "code",
      "source": [
        "#3. Creating an array filled with ones\n",
        "# Using np.ones() method\n",
        "\n",
        "arr4 = np.ones((3,3)) # np.ones((rows, columns))\n",
        "print(arr4)"
      ],
      "metadata": {
        "colab": {
          "base_uri": "https://localhost:8080/"
        },
        "id": "xsBqgy1xiTSB",
        "outputId": "a8310f44-609c-4518-fbe3-0218e69a435c"
      },
      "execution_count": null,
      "outputs": [
        {
          "output_type": "stream",
          "name": "stdout",
          "text": [
            "[[1. 1. 1.]\n",
            " [1. 1. 1.]\n",
            " [1. 1. 1.]]\n"
          ]
        }
      ]
    },
    {
      "cell_type": "code",
      "source": [
        "#4. Creating an array with empty values (garbage values), Not initialized\n",
        "# Using np.empty() method\n",
        "\n",
        "arr5 = np.empty((2,2)) # np.empty((rows, columns))\n",
        "print(arr5)"
      ],
      "metadata": {
        "colab": {
          "base_uri": "https://localhost:8080/"
        },
        "id": "3JJxRFd-iwWL",
        "outputId": "4dfee6b5-ff2b-4122-f92f-b831e0cb80de"
      },
      "execution_count": null,
      "outputs": [
        {
          "output_type": "stream",
          "name": "stdout",
          "text": [
            "[[4.98599305e-310 0.00000000e+000]\n",
            " [6.63610051e-310 6.63616366e-310]]\n"
          ]
        }
      ]
    },
    {
      "cell_type": "code",
      "source": [
        "#5. Creating an array with specific values\n",
        "# Using np.full() method\n",
        "\n",
        "arr6 = np.full((3,3),5) # np.full((rows, columns), value to fill array)\n",
        "print(arr6)"
      ],
      "metadata": {
        "colab": {
          "base_uri": "https://localhost:8080/"
        },
        "id": "bV9_xzk7kK23",
        "outputId": "f11c3f73-0bef-4030-a79b-a57b417b2313"
      },
      "execution_count": null,
      "outputs": [
        {
          "output_type": "stream",
          "name": "stdout",
          "text": [
            "[[5 5 5]\n",
            " [5 5 5]\n",
            " [5 5 5]]\n"
          ]
        }
      ]
    },
    {
      "cell_type": "code",
      "source": [
        "#6. Creating an Identity matrix\n",
        "# Using np.eye() method\n",
        "\n",
        "arr7 = np.eye(3) # np.eye(matrix size)\n",
        "print(arr7)"
      ],
      "metadata": {
        "colab": {
          "base_uri": "https://localhost:8080/"
        },
        "id": "Y2kOu7YrkMpc",
        "outputId": "b16ec997-69ac-4466-db0a-f454d658eb55"
      },
      "execution_count": null,
      "outputs": [
        {
          "output_type": "stream",
          "name": "stdout",
          "text": [
            "[[1. 0. 0.]\n",
            " [0. 1. 0.]\n",
            " [0. 0. 1.]]\n"
          ]
        }
      ]
    },
    {
      "cell_type": "code",
      "source": [
        "#7. Creating a range of array\n",
        "# Using np.arange()\n",
        "\n",
        "arr8 = np.arange(3) # np.arange(end element)--(0 to 2)\n",
        "print(arr8)\n",
        "\n",
        "arr9 = np.arange(0,5) # np.arange(start element, stop element) -- (0,1,2,3,4)\n",
        "print(arr9)\n",
        "\n",
        "arr10 = np.arange(0,10,2) # np.arange(start, stop, step)--(0,2,4,6,8)\n",
        "print(arr10)"
      ],
      "metadata": {
        "colab": {
          "base_uri": "https://localhost:8080/"
        },
        "id": "1pjJsYeAl3OQ",
        "outputId": "5f9fab7d-12a7-44e3-8b4a-bc369e8b33e3"
      },
      "execution_count": null,
      "outputs": [
        {
          "output_type": "stream",
          "name": "stdout",
          "text": [
            "[0 1 2]\n",
            "[0 1 2 3 4]\n",
            "[0 2 4 6 8]\n"
          ]
        }
      ]
    },
    {
      "cell_type": "code",
      "source": [
        "#8. Creating an arry with equally splitted\n",
        "# Using np.linspace() method\n",
        "\n",
        "arr11 = np.linspace(2,10,5) # np.linspace(start, stop, steps to fill) (by default endpoint=True)\n",
        "print(arr11)\n",
        "\n",
        "arr12 = np.linspace(2,10,5, endpoint=True) # np.linspace(start, stop, steps to fill, include end value(endpoint=True))\n",
        "print(arr12)\n",
        "\n",
        "arr13 = np.linspace(2,10,4, endpoint=False) # np.linspace(start, stop, steps to fill, don't include end value(endpoint=False))\n",
        "print(arr13)"
      ],
      "metadata": {
        "colab": {
          "base_uri": "https://localhost:8080/"
        },
        "id": "JTMTN6XynQqt",
        "outputId": "6b83a396-dace-4073-c97d-693efa0e50ed"
      },
      "execution_count": null,
      "outputs": [
        {
          "output_type": "stream",
          "name": "stdout",
          "text": [
            "[ 2.  4.  6.  8. 10.]\n",
            "[ 2.  4.  6.  8. 10.]\n",
            "[2. 4. 6. 8.]\n"
          ]
        }
      ]
    },
    {
      "cell_type": "code",
      "source": [
        "#9. Creating array with any random values\n",
        "# Using np.random.rand() method\n",
        "\n",
        "arr14 = np.random.rand(3,3) # np.random.rand(rows, columns)\n",
        "print(arr14)"
      ],
      "metadata": {
        "colab": {
          "base_uri": "https://localhost:8080/"
        },
        "id": "rLs1XEdKpBNN",
        "outputId": "c4a77c49-1647-4d04-c5ce-ba7dfbdadac8"
      },
      "execution_count": null,
      "outputs": [
        {
          "output_type": "stream",
          "name": "stdout",
          "text": [
            "[[0.77151693 0.53109052 0.55984082]\n",
            " [0.67651661 0.74667702 0.98981942]\n",
            " [0.35125251 0.21593294 0.5018175 ]]\n"
          ]
        }
      ]
    },
    {
      "cell_type": "code",
      "source": [
        "#10. Creating array with integer random values in specific range with specific size\n",
        "# Using np.random.randint() method\n",
        "\n",
        "arr15 = np.random.randint(0,10,(4)) # np.random.randint(low end, high end, (size))-- 1D array\n",
        "print(arr15)\n",
        "\n",
        "arr16 = np.random.randint(0,10,(2,3)) # np.random.randint(low end, high end, (rows, columns))-- 2D array\n",
        "print(arr16)"
      ],
      "metadata": {
        "colab": {
          "base_uri": "https://localhost:8080/"
        },
        "id": "rEoJcd6gp8Nr",
        "outputId": "a29dd954-525b-41b6-f04e-74a9e901ae76"
      },
      "execution_count": null,
      "outputs": [
        {
          "output_type": "stream",
          "name": "stdout",
          "text": [
            "[0 3 6 0]\n",
            "[[5 1 9]\n",
            " [3 5 7]]\n"
          ]
        }
      ]
    },
    {
      "cell_type": "markdown",
      "source": [
        "**Array Manipulation Functions**\n",
        "\n",
        "---\n",
        "\n",
        "**Reshaping**\n",
        "\n",
        "*   reshape\n",
        "*   ravel\n",
        "\n",
        "**Transposing**\n",
        "*   transpose\n",
        "\n",
        "**Joining Arrays**\n",
        "*   concatenate\n",
        "*   stack\n",
        "*   hstack\n",
        "*   vstack\n",
        "*   dstack\n",
        "\n",
        "**Splitting Arrays**\n",
        "*   split\n",
        "*   array_split\n",
        "*   hsplit\n",
        "*   vsplit\n",
        "*   dsplit\n",
        "\n",
        "**Adding Elements**\n",
        "*   append\n",
        "*   insert\n",
        "\n",
        "**Removing Elements**\n",
        "*   delete\n",
        "\n",
        "**Copying/Viewing Arrays**\n",
        "*   copy\n",
        "*   view\n",
        "*   copyto\n",
        "\n",
        "**Flipping and Rolling Arrays**\n",
        "*   flip\n",
        "*   roll\n",
        "\n",
        "**Repeating Elements**\n",
        "*   repeat\n",
        "*   tile\n",
        "\n",
        "\n"
      ],
      "metadata": {
        "id": "DJC8hxr8Q9NX"
      }
    },
    {
      "cell_type": "code",
      "source": [
        "import numpy as np\n",
        "#1. Reshaping (reshape()):\n",
        "# Creating an array and reshape that\n",
        "arr17 = np.arange(1,10)\n",
        "print(arr17.shape)\n",
        "print(arr17)\n",
        "print('-'*15)\n",
        "\n",
        "# Reshape the given array (should be exact same size)\n",
        "# Using np.reshape(size,size)\n",
        "reshapedArr = arr17.reshape(3,3)\n",
        "print(\"After Reshape : \")\n",
        "print(reshapedArr)"
      ],
      "metadata": {
        "colab": {
          "base_uri": "https://localhost:8080/"
        },
        "id": "6CfTOoI4Q_hE",
        "outputId": "3c835d58-286d-4bd1-c545-1cba57454ac2"
      },
      "execution_count": null,
      "outputs": [
        {
          "output_type": "stream",
          "name": "stdout",
          "text": [
            "(9,)\n",
            "[1 2 3 4 5 6 7 8 9]\n",
            "---------------\n",
            "After Reshape : \n",
            "[[1 2 3]\n",
            " [4 5 6]\n",
            " [7 8 9]]\n"
          ]
        }
      ]
    },
    {
      "cell_type": "code",
      "source": [
        "import numpy as np\n",
        "#2. Flattern (ravel())\n",
        "# Creating an array and flattern that array\n",
        "arr19 = np.random.randint(0,10,(3,3))\n",
        "print(arr19)\n",
        "print('-'*15)\n",
        "\n",
        "#Flattern the given array in contiguous manner\n",
        "# Using arr.ravel() method\n",
        "flatternedArray = arr19.ravel()\n",
        "print(\"After flatterned the given array : \")\n",
        "print(flatternedArray)"
      ],
      "metadata": {
        "id": "64zxvv5fW8q6",
        "colab": {
          "base_uri": "https://localhost:8080/"
        },
        "outputId": "9359257f-df9a-45e8-9ced-36d0c86afc9e"
      },
      "execution_count": null,
      "outputs": [
        {
          "output_type": "stream",
          "name": "stdout",
          "text": [
            "[[8 9 2]\n",
            " [3 7 0]\n",
            " [2 0 8]]\n",
            "---------------\n",
            "After flatterned the given array : \n",
            "[8 9 2 3 7 0 2 0 8]\n"
          ]
        }
      ]
    },
    {
      "cell_type": "code",
      "source": [
        "#3. Transpose: (transpose())\n",
        "# Creating an array and find the transpose for that\n",
        "print(\"Given array\")\n",
        "arr18 = np.random.randint(0,10,(3,3))\n",
        "print(arr18)\n",
        "print('-'*15)\n",
        "\n",
        "#Transpose of given array\n",
        "# Using np.transpose(arr)\n",
        "print(\"After Transposed the given array using transpose() method : \")\n",
        "transposedArray = np.transpose(arr18)\n",
        "print(transposedArray)\n",
        "\n",
        "#Transpose of given array\n",
        "# Using arr.T method\n",
        "print('-'*15)\n",
        "print(\"After Transposed the given array using arr.T method : \")\n",
        "print(arr18.T)"
      ],
      "metadata": {
        "colab": {
          "base_uri": "https://localhost:8080/"
        },
        "id": "c5HMErRVUxrZ",
        "outputId": "486b6b1e-2ad4-44e2-84b0-e62293984ec5"
      },
      "execution_count": null,
      "outputs": [
        {
          "output_type": "stream",
          "name": "stdout",
          "text": [
            "Given array\n",
            "[[6 7 5]\n",
            " [5 4 8]\n",
            " [6 9 3]]\n",
            "---------------\n",
            "After Transposed the given array using transpose() method : \n",
            "[[6 5 6]\n",
            " [7 4 9]\n",
            " [5 8 3]]\n",
            "---------------\n",
            "After Transposed the given array using arr.T method : \n",
            "[[6 5 6]\n",
            " [7 4 9]\n",
            " [5 8 3]]\n"
          ]
        }
      ]
    },
    {
      "cell_type": "code",
      "source": [
        "#4. Joining Arrays : (concatinate())\n",
        "print(\"Given Arrays\")\n",
        "arr19 = np.array([[1,2],[3,4]])\n",
        "arr20 = np.array([[5, 6]])\n",
        "print(arr19)\n",
        "print(arr20)\n",
        "print(\"-\"*15)\n",
        "joinedArrays = np.concatenate((arr19,arr20)) # Joining arrays one after another (without axis)\n",
        "print(\"After Joined without axis\")\n",
        "print(joinedArrays)\n",
        "\n",
        "print(\"-\"*15)\n",
        "joinedArrays1 = np.concatenate((arr19,arr20), axis=0) # Joining arrays horizantally using axis (axis = 0 - horizantal)\n",
        "print(\"After Joined with axis is 0\")\n",
        "print(joinedArrays1)\n",
        "\n",
        "print(\"-\"*15)\n",
        "joinedArrays2 = np.concatenate((arr19,arr20.T),axis=1) # Joining arrays vertically after transpose of 2nd array using axis (axis = 1 - vertial)\n",
        "print(\"After Joined with axis is 1 - after Transpose\")\n",
        "print(joinedArrays2)\n"
      ],
      "metadata": {
        "colab": {
          "base_uri": "https://localhost:8080/"
        },
        "id": "t-DAklE2V4JD",
        "outputId": "4042c505-2342-4d5c-8df6-2d01d953a837"
      },
      "execution_count": null,
      "outputs": [
        {
          "output_type": "stream",
          "name": "stdout",
          "text": [
            "Given Arrays\n",
            "[[1 2]\n",
            " [3 4]]\n",
            "[[5 6]]\n",
            "---------------\n",
            "After Joined without axis\n",
            "[[1 2]\n",
            " [3 4]\n",
            " [5 6]]\n",
            "---------------\n",
            "After Joined with axis is 0\n",
            "[[1 2]\n",
            " [3 4]\n",
            " [5 6]]\n",
            "---------------\n",
            "After Joined with axis is 1 - after Transpose\n",
            "[[1 2 5]\n",
            " [3 4 6]]\n"
          ]
        }
      ]
    },
    {
      "cell_type": "code",
      "source": [
        "#5. Joining Arrays: (stack())  - Adding dimention falong the axis\n",
        "print(\"Given Arrays\")\n",
        "arr21 = np.array([[1,2],[3,4]])\n",
        "arr22 = np.array([[5, 6],[10,2]])\n",
        "print(arr21)\n",
        "print(arr22)\n",
        "\n",
        "print(\"-\"*15)\n",
        "print(\"After Stacking the arrays without using axis\")\n",
        "stackedArrays = np.stack((arr21,arr22)) # Stack the arrays a using (stack()) - (without using axis - by default - axis is 0)\n",
        "print(stackedArrays)\n",
        "\n",
        "print(\"-\"*15)\n",
        "print(\"After Stacking the arrays using axis is 0\")\n",
        "stackedArrays1 = np.stack((arr21,arr22), axis=0) # Stack the arrays a using (stack()) - (with using axis is 0)\n",
        "print(stackedArrays1)\n",
        "\n",
        "print(\"-\"*15)\n",
        "print(\"After Stacking the arrays using axis is 1\")\n",
        "stackedArrays2 = np.stack((arr21,arr22), axis=1) # Stack the arrays a using (stack()) - (with using axis is 1)\n",
        "print(stackedArrays2)"
      ],
      "metadata": {
        "colab": {
          "base_uri": "https://localhost:8080/"
        },
        "id": "EVn3uNM4YRuN",
        "outputId": "a33ff6d2-f58f-4909-a5b1-2fa332eb4601"
      },
      "execution_count": null,
      "outputs": [
        {
          "output_type": "stream",
          "name": "stdout",
          "text": [
            "Given Arrays\n",
            "[[1 2]\n",
            " [3 4]]\n",
            "[[ 5  6]\n",
            " [10  2]]\n",
            "---------------\n",
            "After Stacking the arrays without using axis\n",
            "[[[ 1  2]\n",
            "  [ 3  4]]\n",
            "\n",
            " [[ 5  6]\n",
            "  [10  2]]]\n",
            "---------------\n",
            "After Stacking the arrays using axis is 0\n",
            "[[[ 1  2]\n",
            "  [ 3  4]]\n",
            "\n",
            " [[ 5  6]\n",
            "  [10  2]]]\n",
            "---------------\n",
            "After Stacking the arrays using axis is 1\n",
            "[[[ 1  2]\n",
            "  [ 5  6]]\n",
            "\n",
            " [[ 3  4]\n",
            "  [10  2]]]\n"
          ]
        }
      ]
    },
    {
      "cell_type": "code",
      "source": [
        "#6. Joining Arrays: (hstack()  - horizantally (column wise) and vstack() - vertically (row wise) and dstack() - in another axis ( depth wise )\n",
        "print(\"Given Arrays\")\n",
        "arr23 = np.array([[1,2],[3,4]])\n",
        "arr24 = np.array([[5, 6],[10,2]])\n",
        "print(arr23)\n",
        "print(arr24)\n",
        "\n",
        "print(\"-\"*15)\n",
        "print(\"After joining arrays using hstack - horizantally\")\n",
        "h_stack = np.hstack((arr23, arr24)) # Joining arrays horizantally using hstack()\n",
        "print(h_stack)\n",
        "\n",
        "print(\"-\"*15)\n",
        "print(\"After joining arrays using vstack - vertically\")\n",
        "v_stack = np.vstack((arr23, arr24)) # Joining arrays vertically using vstack()\n",
        "print(v_stack)\n",
        "\n",
        "print(\"-\"*15)\n",
        "print(\"After joining arrays using dstack - vertically\")\n",
        "d_stack = np.dstack((arr23, arr24)) # Joining arrays depth wise in another axis using dstack()\n",
        "print(d_stack)"
      ],
      "metadata": {
        "colab": {
          "base_uri": "https://localhost:8080/"
        },
        "id": "DtE2uOqJb1HP",
        "outputId": "9403f2f6-dc73-42c4-98e0-9ebcda9adb25"
      },
      "execution_count": null,
      "outputs": [
        {
          "output_type": "stream",
          "name": "stdout",
          "text": [
            "Given Arrays\n",
            "[[1 2]\n",
            " [3 4]]\n",
            "[[ 5  6]\n",
            " [10  2]]\n",
            "---------------\n",
            "After joining arrays using hstack - horizantally\n",
            "[[ 1  2  5  6]\n",
            " [ 3  4 10  2]]\n",
            "---------------\n",
            "After joining arrays using vstack - vertically\n",
            "[[ 1  2]\n",
            " [ 3  4]\n",
            " [ 5  6]\n",
            " [10  2]]\n",
            "---------------\n",
            "After joining arrays using dstack - vertically\n",
            "[[[ 1  5]\n",
            "  [ 2  6]]\n",
            "\n",
            " [[ 3 10]\n",
            "  [ 4  2]]]\n"
          ]
        }
      ]
    },
    {
      "cell_type": "code",
      "source": [
        "#7. Splitting Arrays: (split()) - spli an array into multiple subarrays - array must be equal size\n",
        "print(\"Given Array\")\n",
        "arr25 = np.array([1,2,3,4,5,6,7,8,9,10])\n",
        "print(arr25)\n",
        "\n",
        "print(\"-\"*15)\n",
        "print(\"After splitting arrays using split\")\n",
        "splittedArrays = np.split(arr25, 5) # split array in sub arrays split(arr, sub arrays count) - necessary to be equal size array\n",
        "print(splittedArrays)"
      ],
      "metadata": {
        "colab": {
          "base_uri": "https://localhost:8080/"
        },
        "id": "FYgfSGRyd6Si",
        "outputId": "25bc5448-c6c8-4dfd-a4f6-50b58cd3c6d3"
      },
      "execution_count": null,
      "outputs": [
        {
          "output_type": "stream",
          "name": "stdout",
          "text": [
            "Given Array\n",
            "[ 1  2  3  4  5  6  7  8  9 10]\n",
            "---------------\n",
            "After splitting arrays using split\n",
            "[array([1, 2]), array([3, 4]), array([5, 6]), array([7, 8]), array([ 9, 10])]\n"
          ]
        }
      ]
    },
    {
      "cell_type": "code",
      "source": [
        "#8. Splitting Arrays: (array_split()) - spli an array into multiple subarrays - array no need to be equal size\n",
        "print(\"Given Array\")\n",
        "arr26 = np.array([1,2,3,4,5,6,7,8,9,10])\n",
        "print(arr26)\n",
        "\n",
        "print(\"-\"*15)\n",
        "print(\"After splitting arrays using split\")\n",
        "splittedArrays1 = np.array_split(arr26, 3) # split array in sub arrays split(arr, sub arrays count) -not necessary to be equal size array\n",
        "print(splittedArrays1)"
      ],
      "metadata": {
        "colab": {
          "base_uri": "https://localhost:8080/"
        },
        "id": "q9tOvU4ffYrw",
        "outputId": "3baa88b3-f5f3-46ef-f1d0-ed33cf792ec2"
      },
      "execution_count": null,
      "outputs": [
        {
          "output_type": "stream",
          "name": "stdout",
          "text": [
            "Given Array\n",
            "[ 1  2  3  4  5  6  7  8  9 10]\n",
            "---------------\n",
            "After splitting arrays using split\n",
            "[array([1, 2, 3, 4]), array([5, 6, 7]), array([ 8,  9, 10])]\n"
          ]
        }
      ]
    },
    {
      "cell_type": "code",
      "source": [
        "#9. Splitting Arrays: using (hsplit() - horizantally (column wise) , vsplit() - vertically (row wise) and dsplit() - another axis (depth wise))\n",
        "print(\"Given Array\")\n",
        "arr27 = np.array([1,2,3,4,5,6,7,8,9,10])\n",
        "print(arr27)\n",
        "\n",
        "print(\"-\"*15)\n",
        "print(\"After splitting the array using hsplit\")\n",
        "h_split = np.hsplit(arr27, 5) # Splitting array using hsplit() - size must be equal\n",
        "print(h_split)\n",
        "\n",
        "arr28 = np.array([[1,2,3,4],[5,6,7,8]])\n",
        "print(\"-\"*15)\n",
        "print(\"After splitting the array using vsplit\")\n",
        "v_split = np.vsplit(arr28, 2) # Splitting array using vsplit() - size must be equal and also only works for 2 or more dimensions\n",
        "print(v_split)\n",
        "\n",
        "arr29 = np.array([[[1, 2], [3, 4]], [[5, 6], [7, 8]]])\n",
        "print(\"-\"*15)\n",
        "print(\"After splitting the array using dsplit\")\n",
        "d_split = np.dsplit(arr29, 2) # Splitting array using dsplit() - size must be equal and also only works for 2 or more dimensions\n",
        "print(d_split)"
      ],
      "metadata": {
        "colab": {
          "base_uri": "https://localhost:8080/"
        },
        "id": "dVbcSD3xf90W",
        "outputId": "8cbbb81a-a419-40b6-c6d5-3bfae5a0eaea"
      },
      "execution_count": null,
      "outputs": [
        {
          "output_type": "stream",
          "name": "stdout",
          "text": [
            "Given Array\n",
            "[ 1  2  3  4  5  6  7  8  9 10]\n",
            "---------------\n",
            "After splitting the array using hsplit\n",
            "[array([1, 2]), array([3, 4]), array([5, 6]), array([7, 8]), array([ 9, 10])]\n",
            "---------------\n",
            "After splitting the array using vsplit\n",
            "[array([[1, 2, 3, 4]]), array([[5, 6, 7, 8]])]\n",
            "---------------\n",
            "After splitting the array using dsplit\n",
            "[array([[[1],\n",
            "        [3]],\n",
            "\n",
            "       [[5],\n",
            "        [7]]]), array([[[2],\n",
            "        [4]],\n",
            "\n",
            "       [[6],\n",
            "        [8]]])]\n"
          ]
        }
      ]
    },
    {
      "cell_type": "code",
      "source": [
        "#10. Adding/ Removing elements from array using (append, insert, delete)\n",
        "print(\"Given Array\")\n",
        "arr30 = np.array([1,2,3])\n",
        "print(arr30)\n",
        "\n",
        "print(\"-\"*15)\n",
        "print(\"After appending an array elements to the given array\")\n",
        "appendedArray = np.append(arr30,[4,5,6]) # Adding elements in given array using append(arr, new array)\n",
        "print(appendedArray)\n",
        "\n",
        "print(\"-\"*15)\n",
        "print(\"After inserting an array elements to the given array\")\n",
        "insertedArray = np.insert(arr30, 1, [10, 11]) # Adding elements in given array using inster(arr,from index, new array)\n",
        "print(insertedArray)\n",
        "\n",
        "print(\"-\"*15)\n",
        "print(\"After deleting array elements from the given array\")\n",
        "deletedArray = np.delete(insertedArray, [0,1]) # Deleting  elements from given array using delete(arr,indexes of elements)\n",
        "print(deletedArray)"
      ],
      "metadata": {
        "colab": {
          "base_uri": "https://localhost:8080/"
        },
        "id": "rXgCgabWiOlt",
        "outputId": "f69f39be-27b9-40fa-cfb5-babda9a8e9e3"
      },
      "execution_count": null,
      "outputs": [
        {
          "output_type": "stream",
          "name": "stdout",
          "text": [
            "Given Array\n",
            "[1 2 3]\n",
            "---------------\n",
            "After appending an array elements to the given array\n",
            "[1 2 3 4 5 6]\n",
            "---------------\n",
            "After inserting an array elements to the given array\n",
            "[ 1 10 11  2  3]\n",
            "---------------\n",
            "After deleting array elements from the given array\n",
            "[11  2  3]\n"
          ]
        }
      ]
    },
    {
      "cell_type": "code",
      "source": [
        "#11. Copying Elements - Using (copy() , view() and copyto())\n",
        "print(\"Given array\")\n",
        "arr31 = np.array([1, 2, 3])\n",
        "print(arr31)\n",
        "\n",
        "print(\"-\"*15)\n",
        "print(\"After Copying the array using copy\")\n",
        "copiedArray = np.copy(arr31) # copying the Array using copy() method - Any modifications to the copy will not affect the original array, and vice versa\n",
        "print(copiedArray)\n",
        "\n",
        "print(\"-\"*15)\n",
        "print(\"After creating the new view of the array using view with the same data\")\n",
        "viewdArray = arr31.view() # creating the view for the given array with the same data - any modification to the original view will effect original array, and vice versa\n",
        "print(viewdArray)\n",
        "\n",
        "print(\"-\"*15)\n",
        "arr32 = np.array([1,2,3])\n",
        "arr33 = np.array([4,5,6])\n",
        "print(\"Before Copying \")\n",
        "print(arr32)\n",
        "print(arr33)\n",
        "print(\"After copying one array to another array using copyto \")\n",
        "np.copyto(arr32, arr33) # copying elements from one array to another array using np.copyto(array taking elements, copying array)\n",
        "print(arr32 ,  \"- copied from 2nd array\")\n",
        "print(arr33)"
      ],
      "metadata": {
        "colab": {
          "base_uri": "https://localhost:8080/"
        },
        "id": "T3wZY8rnmRi4",
        "outputId": "1599c9ef-8e58-4996-d52a-9c0e3faaac59"
      },
      "execution_count": null,
      "outputs": [
        {
          "output_type": "stream",
          "name": "stdout",
          "text": [
            "Given array\n",
            "[1 2 3]\n",
            "---------------\n",
            "After Copying the array using copy\n",
            "[1 2 3]\n",
            "---------------\n",
            "After creating the new view of the array using view with the same data\n",
            "[1 2 3]\n",
            "---------------\n",
            "Before Copying \n",
            "[1 2 3]\n",
            "[4 5 6]\n",
            "After copying one array to another array using copyto \n",
            "[4 5 6] - copied from 2nd array\n",
            "[4 5 6]\n"
          ]
        }
      ]
    },
    {
      "cell_type": "code",
      "source": [
        "#12. Flipping and Rolling Arrays - Using (flip() and roll())\n",
        "print(\"given array\")\n",
        "arr34 = np.array([[1, 2, 3],[4, 5, 6],[7, 8, 9]])\n",
        "print(arr34)\n",
        "\n",
        "print(\"-\"*15)\n",
        "print(\"After Flipping the array\")\n",
        "flippedArray = np.flip(arr34) # Reverse the order of elements in an array using flip(arr).\n",
        "print(flippedArray)\n",
        "\n",
        "print(\"-\"*15)\n",
        "print(\"After Rolling the array\")\n",
        "rolledArray = np.roll(arr34, 1, axis=1) # Roll array elements along a specified axis using roll(arr,no.of positions to shift, axis).\n",
        "print(rolledArray)"
      ],
      "metadata": {
        "colab": {
          "base_uri": "https://localhost:8080/"
        },
        "id": "ssewmPx5rZNl",
        "outputId": "81af59af-e427-4c22-aa11-748c75a09738"
      },
      "execution_count": null,
      "outputs": [
        {
          "output_type": "stream",
          "name": "stdout",
          "text": [
            "given array\n",
            "[[1 2 3]\n",
            " [4 5 6]\n",
            " [7 8 9]]\n",
            "---------------\n",
            "After Flipping the array\n",
            "[[9 8 7]\n",
            " [6 5 4]\n",
            " [3 2 1]]\n",
            "---------------\n",
            "After Rolling the array\n",
            "[[3 1 2]\n",
            " [6 4 5]\n",
            " [9 7 8]]\n"
          ]
        }
      ]
    },
    {
      "cell_type": "code",
      "source": [
        "#13. Repeating Elements - Using(repeat() and tile())\n",
        "print(\"Given Array\")\n",
        "arr35 = np.array([1, 2, 3])\n",
        "print(arr35)\n",
        "\n",
        "print(\"-\"*15)\n",
        "print(\"After repeatig array with repeat\")\n",
        "repeatedArray = np.repeat(arr35, 3) # Repeating array using repeat(arr, no. of times each element should repeat )\n",
        "print(repeatedArray)\n",
        "\n",
        "print(\"-\"*15)\n",
        "print(\"After repeatig array with tile\")\n",
        "tiledArray = np.tile(arr35, 3) # Repeating array using tile(arr, no. of times the tile(entire array) should repeat )\n",
        "print(tiledArray)"
      ],
      "metadata": {
        "colab": {
          "base_uri": "https://localhost:8080/"
        },
        "id": "_lYvyH9Rtccy",
        "outputId": "c27e700a-9e24-4972-9df1-4fbbc89723e2"
      },
      "execution_count": null,
      "outputs": [
        {
          "output_type": "stream",
          "name": "stdout",
          "text": [
            "Given Array\n",
            "[1 2 3]\n",
            "---------------\n",
            "After repeatig array with repeat\n",
            "[1 1 1 2 2 2 3 3 3]\n",
            "---------------\n",
            "After repeatig array with tile\n",
            "[1 2 3 1 2 3 1 2 3]\n"
          ]
        }
      ]
    },
    {
      "cell_type": "markdown",
      "source": [
        "**Array Mathematical Functions**\n",
        "\n",
        "---\n",
        "\n",
        "**Arithmetic Functions**\n",
        "\n",
        "*   Addition (add)\n",
        "*   Subtraction (subtract)\n",
        "*   Multiplication (multiply)\n",
        "*   Division (divide)\n",
        "*   Power (power)\n",
        "*   Modulus (mod)\n",
        "*   Squareroot (sqrt)\n",
        "*   Absolute (absolute)\n",
        "\n",
        "**Trigonometric Functions**\n",
        "*   Sin (sin)\n",
        "*   Cos (cos)\n",
        "*   Tan (tan)\n",
        "*   Inverse Sin (arcsin)\n",
        "*   Inverse Cos (arccos)\n",
        "*   Inverse Tan (arctan)\n",
        "*   Radians to Degrees (degrees)\n",
        "*   Degrees to Radians (radians)\n",
        "\n",
        "**Rounding Functions**\n",
        "*   Round (round)\n",
        "*   Floor (floor)\n",
        "*   Ciel (ceil)"
      ],
      "metadata": {
        "id": "Bl1bbyp3bjB-"
      }
    },
    {
      "cell_type": "code",
      "source": [
        "# Arithmatic Functions\n",
        "# Creating arrays for Arithmatic Operations\n",
        "import numpy as np\n",
        "print(\"Given Arrays\")\n",
        "arr37 = np.array([[4, 10, 18],[12,5,23]])\n",
        "arr38 = np.array([[4, 5, 6],[4,2,9]])\n",
        "print(arr37)\n",
        "print(arr38)\n",
        "print(\"-\"*15)\n",
        "\n",
        "#1. Addition using add()\n",
        "addition = np.add(arr37, arr38) # np.add(arr1, arr1)\n",
        "print(\"Addition : \")\n",
        "print(addition)\n",
        "print(\"-\"*15)\n",
        "\n",
        "#2. Subtraction using subtract()\n",
        "subtraction = np.subtract(arr37, arr38) # np.subtract(arr1, arr1)\n",
        "print(\"Subtraction : \")\n",
        "print(subtraction)\n",
        "print(\"-\"*15)\n",
        "\n",
        "#3. Multiplication using multiply()\n",
        "multiplication = np.multiply(arr37, arr38) # np.multiply(arr1, arr1)\n",
        "print(\"Multiplication : \")\n",
        "print(multiplication)\n",
        "print(\"-\"*15)\n",
        "\n",
        "#4. Division using divide()\n",
        "division = np.divide(arr37, arr38) # np.divide(arr1, arr1)\n",
        "print(\"Division : \")\n",
        "print(division)\n",
        "\n",
        "#5. Power of every element in array using power()\n",
        "power = np.power(arr37, 2) # np.power(arr, value for power)\n",
        "print(\"Power : \")\n",
        "print(power)\n",
        "\n",
        "#6. Modulus (remainder) using mod()\n",
        "modulus = np.mod(arr37, arr38) # np.mod(arr1, arr2)\n",
        "print(\"Modulus : \")\n",
        "print(modulus)\n",
        "\n",
        "#7. Square root of each element in array using sqrt()\n",
        "squareRoot = np.sqrt(arr37) # np.sqrt(arr1)\n",
        "print(\"Square Root : \")\n",
        "print(squareRoot)\n",
        "\n",
        "#8. Absolute of each element in array using absolute()\n",
        "print(\"-\"*15)\n",
        "print(\"Before Absolute\")\n",
        "arr39 = np.array([-1,-2,-3,-4])\n",
        "print(arr39)\n",
        "print(\"-\"*15)\n",
        "absolute = np.absolute(arr39) # np.absolute(arr)\n",
        "print(\"After Absolute : \")\n",
        "print(absolute)"
      ],
      "metadata": {
        "colab": {
          "base_uri": "https://localhost:8080/"
        },
        "id": "RGf_cQsae3Hd",
        "outputId": "422c2840-c833-4577-da38-9a8dea1ed20a"
      },
      "execution_count": null,
      "outputs": [
        {
          "output_type": "stream",
          "name": "stdout",
          "text": [
            "Given Arrays\n",
            "[[ 4 10 18]\n",
            " [12  5 23]]\n",
            "[[4 5 6]\n",
            " [4 2 9]]\n",
            "---------------\n",
            "Addition : \n",
            "[[ 8 15 24]\n",
            " [16  7 32]]\n",
            "---------------\n",
            "Subtraction : \n",
            "[[ 0  5 12]\n",
            " [ 8  3 14]]\n",
            "---------------\n",
            "Multiplication : \n",
            "[[ 16  50 108]\n",
            " [ 48  10 207]]\n",
            "---------------\n",
            "Division : \n",
            "[[1.         2.         3.        ]\n",
            " [3.         2.5        2.55555556]]\n",
            "Power : \n",
            "[[ 16 100 324]\n",
            " [144  25 529]]\n",
            "Modulus : \n",
            "[[0 0 0]\n",
            " [0 1 5]]\n",
            "Square Root : \n",
            "[[2.         3.16227766 4.24264069]\n",
            " [3.46410162 2.23606798 4.79583152]]\n",
            "---------------\n",
            "Before Absolute\n",
            "[-1 -2 -3 -4]\n",
            "---------------\n",
            "After Absolute : \n",
            "[1 2 3 4]\n"
          ]
        }
      ]
    },
    {
      "cell_type": "code",
      "source": [
        "# Trigonometric Functions\n",
        "# Creating angle using np.pi (pi radians = 180 degrees)\n",
        "print(\"Given Angle in radians :\")\n",
        "angle1 = np.pi / 2\n",
        "print(angle1)\n",
        "print(\"Given Angle in degrees :\")\n",
        "angle1Degrees = np.degrees(angle1) # converting radins to degrees using np.degrees(angle)\n",
        "print(angle1Degrees)\n",
        "print(\"-\"*15)\n",
        "\n",
        "#1. Sin using sin()\n",
        "sinValue = np.sin(angle1) # sin(angle(in radians))\n",
        "print(\"Sin for\",angle1Degrees, \"Degrees\")\n",
        "print(round(sinValue))\n",
        "print(\"-\"*15)\n",
        "\n",
        "#2. Cos using cos()\n",
        "cosValue = np.cos(angle1) # cos(angle(in radians))\n",
        "print(\"Cos for\",angle1Degrees, \"Degrees\")\n",
        "print(round(cosValue))\n",
        "print(\"-\"*15)\n",
        "\n",
        "#3. Tan using tan()\n",
        "angle2 = np.pi/4\n",
        "tanValue = np.tan(angle2) # tan(angle(in radians))\n",
        "angle2Degrees = np.degrees(angle2) # converting radins to degrees using np.degrees(angle)\n",
        "print(\"Tan for\",angle2Degrees, \"Degrees\")\n",
        "print(round(tanValue))\n",
        "print(\"-\"*15)\n",
        "\n",
        "#4. Inverse Sin using arcsin()\n",
        "print(\"Given Value is : \")\n",
        "value1 = 1.0\n",
        "print(value1)\n",
        "inverseSin = np.arcsin(value1) #Inverse Sin-  arcsin(angle(in radians))\n",
        "print(\"sin inverse of\", value1)\n",
        "print(np.degrees(inverseSin))\n",
        "print(\"-\"*15)\n",
        "\n",
        "#5. Inverse Cos using arccos()\n",
        "print(\"Given Value is : \")\n",
        "value2 = -1.0\n",
        "print(value2)\n",
        "inverseCos = np.arccos(value2) #Inverse Cos-  arccos(angle(in radians))\n",
        "print(\"cos inverse of\", value2)\n",
        "print(np.degrees(inverseCos))\n",
        "print(\"-\"*15)\n",
        "\n",
        "#6. Inverse Tan using arctan()\n",
        "print(\"Given Value is : \")\n",
        "value3 = 1.0\n",
        "print(value3)\n",
        "inverseTan = np.arctan(value3) #Inverse Tan-  arctan(angle(in radians))\n",
        "print(\"tan inverse of\", value3)\n",
        "print(np.degrees(inverseTan))\n",
        "print(\"-\"*15)\n",
        "\n",
        "#7. Radians to Degrees conersion\n",
        "angle_radians = np.pi\n",
        "print(\"Angle in Radians :\",angle_radians)\n",
        "angle_degrees = np.degrees(angle_radians) # converting radins to degrees using np.degrees(angle)\n",
        "print(\"Angle in Degrees after Conversion :\",angle_degrees)\n",
        "print(\"-\"*15)\n",
        "\n",
        "#7. Degrees to Radians conersion\n",
        "angle_degres1 = 180.0\n",
        "print(\"Angle in Degrees :\",angle_degres1)\n",
        "angle_radians1 = np.radians(angle_degres1)  # converting degrees to radians using np.radians(angle)\n",
        "print(\"Angle in Radians after Conversion :\",angle_radians1)"
      ],
      "metadata": {
        "colab": {
          "base_uri": "https://localhost:8080/"
        },
        "id": "a-MTwz9CnMIh",
        "outputId": "954f8fe6-71ac-457b-a9d3-ea8df37819bf"
      },
      "execution_count": null,
      "outputs": [
        {
          "output_type": "stream",
          "name": "stdout",
          "text": [
            "Given Angle in radians :\n",
            "1.5707963267948966\n",
            "Given Angle in degrees :\n",
            "90.0\n",
            "---------------\n",
            "Sin for 90.0 Degrees\n",
            "1\n",
            "---------------\n",
            "Cos for 90.0 Degrees\n",
            "0\n",
            "---------------\n",
            "Tan for 45.0 Degrees\n",
            "1\n",
            "---------------\n",
            "Given Value is : \n",
            "1.0\n",
            "sin inverse of 1.0\n",
            "90.0\n",
            "---------------\n",
            "Given Value is : \n",
            "-1.0\n",
            "cos inverse of -1.0\n",
            "180.0\n",
            "---------------\n",
            "Given Value is : \n",
            "1.0\n",
            "tan inverse of 1.0\n",
            "45.0\n",
            "---------------\n",
            "Angle in Radians : 3.141592653589793\n",
            "Angle in Degrees after Conversion : 180.0\n",
            "---------------\n",
            "Angle in Degrees : 180.0\n",
            "Angle in Radians after Conversion : 3.141592653589793\n"
          ]
        }
      ]
    },
    {
      "cell_type": "markdown",
      "source": [
        "**Array Statistical Functions**\n",
        "\n",
        "---\n",
        "\n",
        "*   Mean (mean)\n",
        "*   Median (median)\n",
        "*   Standard Deviation (std)\n",
        "*   Variance (var)\n",
        "*   Sum (sum)\n",
        "*   Minimum (min)\n",
        "*   Maximum (max)\n",
        "*   Index of Minimum (argmin)\n",
        "*   Index of Maximum (argmax)\n",
        "*   nth Percentile (percentile)"
      ],
      "metadata": {
        "id": "0eJ6LX-mkOEY"
      }
    },
    {
      "cell_type": "code",
      "source": [
        "# Array Statistical Functions\n",
        "import numpy as np\n",
        "#1. Mean of Array - mean()\n",
        "print(\"Given Array\")\n",
        "arr40 = np.array([1,2,3,4,5])\n",
        "print(arr40)\n",
        "print(\"Mean of Array\")\n",
        "mean = np.mean(arr40) # np.mean(arr)\n",
        "print(mean)\n",
        "print(\"-\"*15)\n",
        "\n",
        "#2. Median of Array - median()\n",
        "print(\"Given Array\")\n",
        "arr41 = np.array([1,2,5,7,8])\n",
        "print(arr41)\n",
        "print(\"-\"*15)\n",
        "print(\"Median of Array\")\n",
        "median = np.median(arr41) # np.median(arr)\n",
        "print(median)\n",
        "print(\"-\"*15)\n",
        "\n",
        "#3. Standrad Deviation of Array - std()\n",
        "print(\"Given Array\")\n",
        "arr42 = np.array([1,2,3,4,5])\n",
        "print(arr42)\n",
        "print(\"Standard Deviation of Array\")\n",
        "standardDeviation = np.std(arr42) # np.std(arr)\n",
        "print(standardDeviation)\n",
        "print(\"-\"*15)\n",
        "\n",
        "#4. Variance of Array - var()\n",
        "print(\"Given Array\")\n",
        "arr43 = np.array([1,2,3,4,5])\n",
        "print(arr43)\n",
        "print(\"Variance of Array\")\n",
        "variance = np.var(arr43) # np.var(arr)\n",
        "print(variance)\n",
        "print(\"-\"*15)\n",
        "\n",
        "#5. Sum of Array - sum()\n",
        "print(\"Given Array\")\n",
        "arr44 = np.array([1,2,3,4,5])\n",
        "print(arr44)\n",
        "print(\"Sum of Array\")\n",
        "sum = np.sum(arr44) # np.sum(arr)\n",
        "print(sum)\n",
        "print(\"-\"*15)\n",
        "\n",
        "#6. Minimum of Array - min()\n",
        "print(\"Given Array\")\n",
        "arr45 = np.array([5,2,45,4,1])\n",
        "print(arr45)\n",
        "print(\"Minimum of Array\")\n",
        "min = np.min(arr45) # np.min(arr)\n",
        "print(min)\n",
        "print(\"-\"*15)\n",
        "\n",
        "#7. Maximum of Array - max()\n",
        "print(\"Given Array\")\n",
        "arr46 = np.array([5,2,45,4,1])\n",
        "print(arr46)\n",
        "print(\"Maximum of Array\")\n",
        "max = np.max(arr46) # np.max(arr)\n",
        "print(max)\n",
        "print(\"-\"*15)\n",
        "\n",
        "#8. Index of Minimum element in Array - argmin()\n",
        "print(\"Given Array\")\n",
        "arr47 = np.array([5,2,45,4,1])\n",
        "print(arr47)\n",
        "print(\"Index of Minimum element in Array\")\n",
        "minIndex = np.argmin(arr47)  # np.argmin(arr)\n",
        "print(minIndex)\n",
        "print(\"-\"*15)\n",
        "\n",
        "#9. Index of Maximum element in Array - argmax()\n",
        "print(\"Given Array\")\n",
        "arr48 = np.array([5,2,45,4,1])\n",
        "print(arr48)\n",
        "print(\"Index of Maximum element in Array\")\n",
        "maxIndex = np.argmax(arr48)  # np.argmax(arr)\n",
        "print(maxIndex)\n",
        "print(\"-\"*15)\n",
        "\n",
        "#10. nth percentile of Array - percentile()\n",
        "print(\"Given Array\")\n",
        "arr49 = np.array([1,2,3,4,5])\n",
        "print(arr49)\n",
        "print(\"Percentile of Array\")\n",
        "percentile = np.percentile(arr49,30)  # np.percentile(arr, how much percentile you want (ex-30))\n",
        "print(percentile)\n",
        "print(\"-\"*15)\n"
      ],
      "metadata": {
        "colab": {
          "base_uri": "https://localhost:8080/"
        },
        "id": "1e46L-DPqSmP",
        "outputId": "175439f9-c2d3-45c2-9ebe-be0a683a9ed6"
      },
      "execution_count": 1,
      "outputs": [
        {
          "output_type": "stream",
          "name": "stdout",
          "text": [
            "Given Array\n",
            "[1 2 3 4 5]\n",
            "Mean of Array\n",
            "3.0\n",
            "---------------\n",
            "Given Array\n",
            "[1 2 5 7 8]\n",
            "---------------\n",
            "Median of Array\n",
            "5.0\n",
            "---------------\n",
            "Given Array\n",
            "[1 2 3 4 5]\n",
            "Standard Deviation of Array\n",
            "1.4142135623730951\n",
            "---------------\n",
            "Given Array\n",
            "[1 2 3 4 5]\n",
            "Variance of Array\n",
            "2.0\n",
            "---------------\n",
            "Given Array\n",
            "[1 2 3 4 5]\n",
            "Sum of Array\n",
            "15\n",
            "---------------\n",
            "Given Array\n",
            "[ 5  2 45  4  1]\n",
            "Minimum of Array\n",
            "1\n",
            "---------------\n",
            "Given Array\n",
            "[ 5  2 45  4  1]\n",
            "Maximum of Array\n",
            "45\n",
            "---------------\n",
            "Given Array\n",
            "[ 5  2 45  4  1]\n",
            "Index of Minimum element in Array\n",
            "4\n",
            "---------------\n",
            "Given Array\n",
            "[ 5  2 45  4  1]\n",
            "Index of Maximum element in Array\n",
            "2\n",
            "---------------\n",
            "Given Array\n",
            "[1 2 3 4 5]\n",
            "Percentile of Array\n",
            "2.2\n",
            "---------------\n"
          ]
        }
      ]
    },
    {
      "cell_type": "markdown",
      "source": [
        "**Array Input and Output Functions**\n",
        "\n",
        "---\n",
        "\n",
        "*   Load data from txt file (loadtxt)\n",
        "*   Load data from txt file, with missing values (genfromtxt)\n",
        "*   Save an arry to the text file (savetxt)\n",
        "*   Save an arry to the binary file (.npy) (save)\n",
        "*    Save several arrays into a single file in compressed (.npz) (savez)\n",
        "*   Load arrays or pickled objects from .npy, .npz, or pickled files (load)"
      ],
      "metadata": {
        "id": "piZKHZHXqN-V"
      }
    },
    {
      "cell_type": "code",
      "source": [
        "# Array Input and Output Functions\n",
        "import numpy as np\n",
        "#1.  Load data from txt file (loadtxt) - only data should be numerical values\n",
        "print(\"Load data from txt file : \")\n",
        "data1 = np.loadtxt('loadtxt.txt') # np.loadtxt('filename with path if required')\n",
        "print(data1)\n",
        "print(\"-\"*15)\n",
        "\n",
        "#2. Load data from txt file, with missing values (genfromtxt)\n",
        "print(\"Load data from txt file, with missing values : fill missing values (N/A) with -1 in below example\")\n",
        "data2 = np.genfromtxt('genfromtxt.txt', missing_values='N/A', filling_values=-1)\n",
        "# np.genfromtxt('file name', missing_values='value', filling_values= value)\n",
        "print(data2)\n",
        "print(\"-\"*15)\n",
        "\n",
        "#3. Save an array to a text file (savetxt)\n",
        "print(\"Save an array to a text file\")\n",
        "arrData1 = np.array([[1,2,3], [4,5,6]])\n",
        "np.savetxt('savetxt.txt', arrData1)\n",
        "print(\"Data Saved with file name savetxt.txt\")\n",
        "print(\"-\"*15)\n",
        "\n",
        "#4. Save an array to a binary file (.npy) (save):\n",
        "print(\"Save an array to a binary file\")\n",
        "arrData2 = np.array([[5,3,4],[8,7,9]])\n",
        "np.save('savedata.npy',arrData2)\n",
        "print(\"Data saved with file name savedata.npy\")\n",
        "print(\"-\"*15)\n",
        "\n",
        "#5. Save several arrays into a single file in compressed format (.npz) (savez):\n",
        "print(\" Save several arrays into a single file in compressed format \")\n",
        "data3 = np.array([5,6,7])\n",
        "data4 = np.array([10,25,65])\n",
        "np.savez('savez.npz', data1=data3, data2=data4)\n",
        "print(\"Data saved with file name savez.npz\")\n",
        "print(\"-\"*15)\n",
        "\n",
        "#6. Load arrays or pickled objects from .npy, .npz, or pickled files (load):\n",
        "print(\" Load arrays or pickled objects from .npy, .npz, or pickled files (load)\")\n",
        "dataNpy = np.load('savedata.npy')\n",
        "print(\"Loaded data from savedata.npy file\")\n",
        "print(dataNpy)\n",
        "print(\"-\"*15)\n",
        "\n",
        "dataNpz = np.load('savez.npz')\n",
        "print(\"Loaded data from savez.npz file\")\n",
        "print(dataNpz)\n",
        "print(\"Loaded data1 :\",dataNpz['data1'])\n",
        "print(\"Loaded data2 :\",dataNpz['data2'])\n",
        "print(\"-\"*15)\n",
        "\n"
      ],
      "metadata": {
        "colab": {
          "base_uri": "https://localhost:8080/"
        },
        "id": "oifEWaSSwsiO",
        "outputId": "3d99cfa7-5aa5-4f7a-df7e-f902a7342bcf"
      },
      "execution_count": 30,
      "outputs": [
        {
          "output_type": "stream",
          "name": "stdout",
          "text": [
            "Load data from txt file : \n",
            "[ 12.  56.  89. 741. 256. 520.]\n",
            "---------------\n",
            "Load data from txt file, with missing values : fill missing values (N/A) with -1 in below example\n",
            "[[ 1.  2.  3. -1.  5.]\n",
            " [ 4.  5.  6.  5. -1.]]\n",
            "---------------\n",
            "Save an array to a text file\n",
            "Data Saved with file name savetxt.txt\n",
            "---------------\n",
            "Save an array to a binary file\n",
            "Data saved with file name savedata.npy\n",
            "---------------\n",
            " Save several arrays into a single file in compressed format \n",
            "Data saved with file name savez.npz\n",
            "---------------\n",
            " Load arrays or pickled objects from .npy, .npz, or pickled files (load)\n",
            "Loaded data from savedata.npy file\n",
            "[[5 3 4]\n",
            " [8 7 9]]\n",
            "---------------\n",
            "Loaded data from savez.npz file\n",
            "NpzFile 'savez.npz' with keys: data1, data2\n",
            "Loaded data1 : [5 6 7]\n",
            "Loaded data2 : [10 25 65]\n",
            "---------------\n"
          ]
        }
      ]
    }
  ]
}